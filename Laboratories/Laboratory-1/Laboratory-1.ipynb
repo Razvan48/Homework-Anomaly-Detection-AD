{
 "cells": [
  {
   "cell_type": "code",
   "execution_count": null,
   "id": "d674ae90",
   "metadata": {},
   "outputs": [],
   "source": [
    "!pip install matplotlib\n",
    "!pip install scikit-learn\n",
    "!pip install pyod"
   ]
  },
  {
   "cell_type": "code",
   "execution_count": null,
   "id": "440e1cb7",
   "metadata": {},
   "outputs": [],
   "source": [
    "import matplotlib.pyplot as plt\n",
    "import sklearn.metrics\n",
    "from pyod.utils.data import generate_data\n",
    "from pyod.models.knn import KNN\n",
    "from sklearn.metrics import confusion_matrix\n",
    "from sklearn.metrics import roc_curve\n",
    "from sklearn.metrics import auc\n",
    "import numpy as np\n",
    "from sklearn.metrics import balanced_accuracy_score"
   ]
  },
  {
   "cell_type": "code",
   "execution_count": null,
   "id": "5fb046c7",
   "metadata": {},
   "outputs": [],
   "source": [
    "def ex1(contamination=0.1):\n",
    "    data = generate_data(n_train=400, n_test=100, n_features=2, contamination=contamination, random_state=23)\n",
    "    train_data, test_data, train_labels, test_labels = data\n",
    "\n",
    "    train_inliers = train_data[train_labels == 0]\n",
    "    train_outliers = train_data[train_labels == 1]\n",
    "\n",
    "    plt.scatter(train_inliers[:, 0], train_inliers[:, 1], c='blue', label='Train Inliers')\n",
    "    plt.scatter(train_outliers[:, 0], train_outliers[:, 1], c='red', label='Train Outliers')\n",
    "\n",
    "    plt.show()\n",
    "\n",
    "    return train_data, test_data, train_labels, test_labels\n",
    "\n",
    "ex1()"
   ]
  }
 ],
 "metadata": {
  "kernelspec": {
   "display_name": ".venv (3.12.10)",
   "language": "python",
   "name": "python3"
  },
  "language_info": {
   "name": "python",
   "version": "3.12.10"
  }
 },
 "nbformat": 4,
 "nbformat_minor": 5
}
